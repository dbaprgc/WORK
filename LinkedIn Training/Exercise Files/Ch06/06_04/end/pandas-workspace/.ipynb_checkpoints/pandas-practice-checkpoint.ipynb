{
 "cells": [
  {
   "cell_type": "code",
   "execution_count": 2,
   "metadata": {},
   "outputs": [],
   "source": [
    "from sqlalchemy import create_engine\n",
    "from os import environ\n",
    "import pandas as pd\n",
    "\n",
    "db_uri = environ.get('SQLALCHEMY_SALES_URI')\n",
    "engine = create_engine(db_uri)"
   ]
  },
  {
   "cell_type": "code",
   "execution_count": 3,
   "metadata": {},
   "outputs": [],
   "source": [
    "salespeople_df = pd.read_sql_table(\"salesperson\", con=engine)"
   ]
  },
  {
   "cell_type": "code",
   "execution_count": 4,
   "metadata": {},
   "outputs": [],
   "source": [
    "# specific_salesperson_df = pd.read_sql_table(\"salesperson\", \n",
    "#                                             con=engine, \n",
    "#                                             index_col='id', \n",
    "#                                             coerce_float=True, \n",
    "#                                             columns=['id', 'city', 'state'],\n",
    "#                                             parse_dates=['dateColumn'],\n",
    "#                                             chunksize=250)"
   ]
  },
  {
   "cell_type": "code",
   "execution_count": null,
   "metadata": {},
   "outputs": [],
   "source": [
    "email_df = pd.read_sql(\"SELECT email_address FROM sales LIMIT 10\", con=engine)"
   ]
  }
 ],
 "metadata": {
  "kernelspec": {
   "display_name": "Python 3",
   "language": "python",
   "name": "python3"
  },
  "language_info": {
   "codemirror_mode": {
    "name": "ipython",
    "version": 3
   },
   "file_extension": ".py",
   "mimetype": "text/x-python",
   "name": "python",
   "nbconvert_exporter": "python",
   "pygments_lexer": "ipython3",
   "version": "3.7.3"
  }
 },
 "nbformat": 4,
 "nbformat_minor": 4
}
